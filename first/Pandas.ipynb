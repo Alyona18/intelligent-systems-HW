{
  "nbformat": 4,
  "nbformat_minor": 5,
  "metadata": {
    "kernelspec": {
      "display_name": "Python 3 (ipykernel)",
      "language": "python",
      "name": "python3"
    },
    "language_info": {
      "codemirror_mode": {
        "name": "ipython",
        "version": 3
      },
      "file_extension": ".py",
      "mimetype": "text/x-python",
      "name": "python",
      "nbconvert_exporter": "python",
      "pygments_lexer": "ipython3",
      "version": "3.8.11"
    },
    "colab": {
      "name": "Pandas_amp_DimensionalityReduction.ipynb",
      "provenance": [],
      "include_colab_link": true
    }
  },
  "cells": [
    {
      "cell_type": "markdown",
      "metadata": {
        "id": "view-in-github",
        "colab_type": "text"
      },
      "source": [
        "<a href=\"https://colab.research.google.com/github/Alyona18/intelligent-systems-HW/blob/main/first/Pandas.ipynb\" target=\"_parent\"><img src=\"https://colab.research.google.com/assets/colab-badge.svg\" alt=\"Open In Colab\"/></a>"
      ]
    },
    {
      "cell_type": "code",
      "metadata": {
        "id": "9cc259d8"
      },
      "source": [
        "import pandas as pd"
      ],
      "id": "9cc259d8",
      "execution_count": 1,
      "outputs": []
    },
    {
      "cell_type": "markdown",
      "metadata": {
        "id": "984f836d"
      },
      "source": [
        "#### Загрузить данные в pandas по url=https://raw.githubusercontent.com/justmarkham/DAT8/master/data/chipotle.tsv"
      ],
      "id": "984f836d"
    },
    {
      "cell_type": "code",
      "metadata": {
        "id": "-YKDUihNwEg4"
      },
      "source": [
        "URL = \"https://raw.githubusercontent.com/justmarkham/DAT8/master/data/chipotle.tsv\"\n",
        "df = pd.read_csv(URL, sep='\\t')"
      ],
      "id": "-YKDUihNwEg4",
      "execution_count": 6,
      "outputs": []
    },
    {
      "cell_type": "markdown",
      "metadata": {
        "id": "O6vl1Vg90ZZF"
      },
      "source": [
        "1. Вывести: кол-во наблюдений в датасете"
      ],
      "id": "O6vl1Vg90ZZF"
    },
    {
      "cell_type": "code",
      "metadata": {
        "colab": {
          "base_uri": "https://localhost:8080/"
        },
        "id": "NfcMxti6xhEN",
        "outputId": "62735a48-2cee-47de-84a0-763971b19375"
      },
      "source": [
        "num_of_rows = len(df.axes[0])\n",
        "print(\"Number of rows: \", num_of_rows)"
      ],
      "id": "NfcMxti6xhEN",
      "execution_count": 8,
      "outputs": [
        {
          "output_type": "stream",
          "name": "stdout",
          "text": [
            "Number of rows:  4622\n"
          ]
        }
      ]
    },
    {
      "cell_type": "markdown",
      "metadata": {
        "id": "fgoADxIA0fHA"
      },
      "source": [
        "2. Вывести названия столбцов"
      ],
      "id": "fgoADxIA0fHA"
    },
    {
      "cell_type": "code",
      "metadata": {
        "colab": {
          "base_uri": "https://localhost:8080/"
        },
        "id": "C38fQV_lyP_s",
        "outputId": "58eeeaa8-76bf-4b3e-a0ec-c617cbc99b9b"
      },
      "source": [
        "columns_names = df.columns.values\n",
        "print(columns_names)"
      ],
      "id": "C38fQV_lyP_s",
      "execution_count": 11,
      "outputs": [
        {
          "output_type": "stream",
          "name": "stdout",
          "text": [
            "['order_id' 'quantity' 'item_name' 'choice_description' 'item_price']\n"
          ]
        }
      ]
    },
    {
      "cell_type": "markdown",
      "metadata": {
        "id": "XyNHB-OQ1j4m"
      },
      "source": [
        "3. Определить самую частую позицию (item) в заказе"
      ],
      "id": "XyNHB-OQ1j4m"
    },
    {
      "cell_type": "code",
      "metadata": {
        "colab": {
          "base_uri": "https://localhost:8080/",
          "height": 35
        },
        "id": "nOIQRX4G0idJ",
        "outputId": "de5524a3-51ac-4487-cede-4dd36f923367"
      },
      "source": [
        "df.item_name.mode().values[0]"
      ],
      "id": "nOIQRX4G0idJ",
      "execution_count": 15,
      "outputs": [
        {
          "output_type": "execute_result",
          "data": {
            "application/vnd.google.colaboratory.intrinsic+json": {
              "type": "string"
            },
            "text/plain": [
              "'Chicken Bowl'"
            ]
          },
          "metadata": {},
          "execution_count": 15
        }
      ]
    },
    {
      "cell_type": "markdown",
      "metadata": {
        "id": "mPCITnxG41jP"
      },
      "source": [
        "4. Построить гистрограмму частоты заказов по позициям (item )"
      ],
      "id": "mPCITnxG41jP"
    },
    {
      "cell_type": "code",
      "metadata": {
        "colab": {
          "base_uri": "https://localhost:8080/",
          "height": 282
        },
        "id": "MVSvUdB71mBx",
        "outputId": "6adfd611-d891-47d0-c56d-127fdb858934"
      },
      "source": [
        "df['item_name'].hist( )"
      ],
      "id": "MVSvUdB71mBx",
      "execution_count": 20,
      "outputs": [
        {
          "output_type": "execute_result",
          "data": {
            "text/plain": [
              "<matplotlib.axes._subplots.AxesSubplot at 0x7fa4219b75d0>"
            ]
          },
          "metadata": {},
          "execution_count": 20
        },
        {
          "output_type": "display_data",
          "data": {
            "image/png": "[encoded data removed]",
            "text/plain": [
              "<Figure size 432x288 with 1 Axes>"
            ]
          },
          "metadata": {
            "needs_background": "light"
          }
        }
      ]
    },
    {
      "cell_type": "markdown",
      "metadata": {
        "id": "H89Q5mN36zm8"
      },
      "source": [
        "5. Измените тип переменной item_price c с помощью лямбды функции"
      ],
      "id": "H89Q5mN36zm8"
    },
    {
      "cell_type": "code",
      "metadata": {
        "colab": {
          "base_uri": "https://localhost:8080/"
        },
        "id": "mEPztoA749lm",
        "outputId": "6dfdba96-e787-4802-d694-80827257eb68"
      },
      "source": [
        "df['item_price'].apply(lambda x: x.replace('$', '')).astype('float')"
      ],
      "id": "mEPztoA749lm",
      "execution_count": 21,
      "outputs": [
        {
          "output_type": "execute_result",
          "data": {
            "text/plain": [
              "0        2.39\n",
              "1        3.39\n",
              "2        3.39\n",
              "3        2.39\n",
              "4       16.98\n",
              "        ...  \n",
              "4617    11.75\n",
              "4618    11.75\n",
              "4619    11.25\n",
              "4620     8.75\n",
              "4621     8.75\n",
              "Name: item_price, Length: 4622, dtype: float64"
            ]
          },
          "metadata": {},
          "execution_count": 21
        }
      ]
    },
    {
      "cell_type": "markdown",
      "metadata": {
        "id": "Mr56sWGOBffd"
      },
      "source": [
        "6. Построить гистограмму кол-во денег заработанных по каждой позиции (item)\n",
        "\n"
      ],
      "id": "Mr56sWGOBffd"
    },
    {
      "cell_type": "code",
      "metadata": {
        "colab": {
          "base_uri": "https://localhost:8080/"
        },
        "id": "LJ8w1j-g62Cl",
        "outputId": "88b65903-d847-49b7-b8a4-d10a701c56af"
      },
      "source": [
        "#df['item_price'] = df['item_price'].apply(lambda x: x.replace('$', '')).astype('float')\n",
        "df.head()\n",
        "for_hist = df.groupby('item_name').item_price.sum()\n",
        "for_hist.head()\n",
        "type(for_hist)\n",
        "#for_hist.hist()\n"
      ],
      "id": "LJ8w1j-g62Cl",
      "execution_count": 54,
      "outputs": [
        {
          "output_type": "execute_result",
          "data": {
            "text/plain": [
              "pandas.core.series.Series"
            ]
          },
          "metadata": {},
          "execution_count": 54
        }
      ]
    },
    {
      "cell_type": "markdown",
      "metadata": {
        "id": "1a64282e"
      },
      "source": [
        "#### 1. Вывести: кол-во наблюдений в датасете\n",
        "#### 2. Вывести названия столбцов\n",
        "#### 3. Определить самую частую позицию (item) в заказе \n",
        "#### 4. Построить гистрограмму частоты заказов по позициям (item )\n",
        "#### 5. Измените тип переменной item_price c с помощью лямбды функции\n",
        "#### 6. Построить гистограмму кол-во денег заработанных по каждой позиции (item)\n",
        "#### 7. Средняя сумма заказа? (минимум 2 способа)\n",
        "#### 8. Выведите среднее, минимальное и максимальное, медианное значения позиций в заказе\n",
        "#### 9. Определить статистику заказов стейков, а также статистику заказов прожарки.\n",
        "#### 10. Добавить новый столбец цен на каждую позицию в заказе в рублях.\n",
        "#### 11. Сгруппировать заказы по входящим позициям в него. Отдельно сгруппировать по стейкам во всех видах прожарках.\n",
        "#### 12. Определить цену по каждой позиции в отдельности. \n"
      ],
      "id": "1a64282e"
    }
  ]
}