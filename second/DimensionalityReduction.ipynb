{
  "nbformat": 4,
  "nbformat_minor": 5,
  "metadata": {
    "kernelspec": {
      "display_name": "Python 3 (ipykernel)",
      "language": "python",
      "name": "python3"
    },
    "language_info": {
      "codemirror_mode": {
        "name": "ipython",
        "version": 3
      },
      "file_extension": ".py",
      "mimetype": "text/x-python",
      "name": "python",
      "nbconvert_exporter": "python",
      "pygments_lexer": "ipython3",
      "version": "3.8.11"
    },
    "colab": {
      "name": "Pandas_amp_DimensionalityReduction.ipynb",
      "provenance": []
    }
  },
  "cells": [
    {
      "cell_type": "code",
      "metadata": {
        "id": "9cc259d8"
      },
      "source": [
        "import pandas as pd\n",
        "import numpy as np\n",
        "import seaborn as sns\n",
        "import matplotlib\n",
        "import matplotlib.pyplot as plt"
      ],
      "id": "9cc259d8",
      "execution_count": 14,
      "outputs": []
    },
    {
      "cell_type": "markdown",
      "metadata": {
        "id": "cf725ec6"
      },
      "source": [
        "### Алгоритмы уменьшения размерности \n",
        "\n",
        "#### повторить эксперименты в главе 5.1 Qalitative Comparison of Multiple Algorithms статьи статьи UMAP: Uniform Manifold\n",
        "#### Approximation and Projection for Dimension Reduction (https://arxiv.org/pdf/1802.03426.pdf)\n",
        "\n",
        "#### необходимо воспроизвести все графики данной главы, соотнести выводы из статьи с вашими результатами."
      ],
      "id": "cf725ec6"
    },
    {
      "cell_type": "code",
      "metadata": {
        "id": "0e3ac869"
      },
      "source": [
        "URL_mnist = \"https://drive.google.com/file/d/1Ra1DQHptZznaJALceoE8k0qOZfksdYbf/view?usp=sharing\"\n",
        "URL_f_mnist =\"https://drive.google.com/file/d/1HyMQXdEBy5vUqwzzSciyRClCJhPJL_ID/view?usp=sharing\"\n",
        "df_mnist = pd.read_csv(URL_mnist)\n",
        "df_f_mnist = pd.read_csv(URL_f_mnist)"
      ],
      "id": "0e3ac869",
      "execution_count": 3,
      "outputs": []
    },
    {
      "cell_type": "code",
      "metadata": {
        "colab": {
          "base_uri": "https://localhost:8080/"
        },
        "id": "YxKslZ2djLf9",
        "outputId": "75060194-a78f-4ae7-c8e4-7340144d611f"
      },
      "source": [
        "!wget -c \"https://s3.amazonaws.com/dl4j-distribution/GoogleNews-vectors-negative300.bin.gz\""
      ],
      "id": "YxKslZ2djLf9",
      "execution_count": 4,
      "outputs": [
        {
          "output_type": "stream",
          "name": "stdout",
          "text": [
            "--2021-11-19 12:33:16--  https://s3.amazonaws.com/dl4j-distribution/GoogleNews-vectors-negative300.bin.gz\n",
            "Resolving s3.amazonaws.com (s3.amazonaws.com)... 52.217.74.198\n",
            "Connecting to s3.amazonaws.com (s3.amazonaws.com)|52.217.74.198|:443... connected.\n",
            "HTTP request sent, awaiting response... 200 OK\n",
            "Length: 1647046227 (1.5G) [application/x-gzip]\n",
            "Saving to: ‘GoogleNews-vectors-negative300.bin.gz’\n",
            "\n",
            "GoogleNews-vectors- 100%[===================>]   1.53G  46.0MB/s    in 37s     \n",
            "\n",
            "2021-11-19 12:33:53 (42.0 MB/s) - ‘GoogleNews-vectors-negative300.bin.gz’ saved [1647046227/1647046227]\n",
            "\n"
          ]
        }
      ]
    },
    {
      "cell_type": "code",
      "metadata": {
        "id": "CbakDjKwjg2t"
      },
      "source": [
        "!gzip -d GoogleNews-vectors-negative300.bin.gz"
      ],
      "id": "CbakDjKwjg2t",
      "execution_count": 5,
      "outputs": []
    },
    {
      "cell_type": "code",
      "metadata": {
        "colab": {
          "base_uri": "https://localhost:8080/"
        },
        "id": "UGOCAviIMWrW",
        "outputId": "46d0a0a6-4e5a-4fc5-8ef2-fde7ed4bee07"
      },
      "source": [
        "from google.colab import drive\n",
        "drive.mount('/content/drive')"
      ],
      "id": "UGOCAviIMWrW",
      "execution_count": 6,
      "outputs": [
        {
          "output_type": "stream",
          "name": "stdout",
          "text": [
            "Mounted at /content/drive\n"
          ]
        }
      ]
    },
    {
      "cell_type": "code",
      "metadata": {
        "id": "wUJYok5ljn0X"
      },
      "source": [
        "from gensim import models\n",
        "\n",
        "w = models.KeyedVectors.load_word2vec_format(\n",
        "    '/content/GoogleNews-vectors-negative300.bin', binary=True)"
      ],
      "id": "wUJYok5ljn0X",
      "execution_count": 7,
      "outputs": []
    },
    {
      "cell_type": "code",
      "metadata": {
        "id": "gXdi7u7EQExw"
      },
      "source": [
        "from sklearn.datasets import load_digits\n",
        "\n",
        "mnist = load_digits()"
      ],
      "id": "gXdi7u7EQExw",
      "execution_count": 21,
      "outputs": []
    },
    {
      "cell_type": "code",
      "metadata": {
        "colab": {
          "base_uri": "https://localhost:8080/"
        },
        "id": "lKlqkYaUQ1iP",
        "outputId": "4459cd28-0b93-4796-8c03-246b18754103"
      },
      "source": [
        "!pip install dataget \n"
      ],
      "id": "lKlqkYaUQ1iP",
      "execution_count": 24,
      "outputs": [
        {
          "output_type": "stream",
          "name": "stdout",
          "text": [
            "Collecting dataget\n",
            "  Downloading dataget-0.4.15-py3-none-any.whl (16 kB)\n",
            "Collecting idx2numpy<2.0.0,>=1.2.2\n",
            "  Downloading idx2numpy-1.2.3.tar.gz (6.8 kB)\n",
            "Collecting httpx<0.12.0,>=0.11.1\n",
            "  Downloading httpx-0.11.1-py2.py3-none-any.whl (77 kB)\n",
            "\u001b[K     |████████████████████████████████| 77 kB 4.2 MB/s \n",
            "\u001b[?25hRequirement already satisfied: kaggle<2.0.0,>=1.5.6 in /usr/local/lib/python3.7/dist-packages (from dataget) (1.5.12)\n",
            "Requirement already satisfied: numpy<2.0.0,>=1.18.1 in /usr/local/lib/python3.7/dist-packages (from dataget) (1.19.5)\n",
            "Requirement already satisfied: tqdm<5.0.0,>=4.42.1 in /usr/local/lib/python3.7/dist-packages (from dataget) (4.62.3)\n",
            "Collecting aiofiles<0.5.0,>=0.4.0\n",
            "  Downloading aiofiles-0.4.0-py3-none-any.whl (9.2 kB)\n",
            "Requirement already satisfied: pandas<2.0.0,>=1.0.1 in /usr/local/lib/python3.7/dist-packages (from dataget) (1.1.5)\n",
            "Requirement already satisfied: certifi in /usr/local/lib/python3.7/dist-packages (from httpx<0.12.0,>=0.11.1->dataget) (2021.10.8)\n",
            "Requirement already satisfied: idna==2.* in /usr/local/lib/python3.7/dist-packages (from httpx<0.12.0,>=0.11.1->dataget) (2.10)\n",
            "Collecting sniffio==1.*\n",
            "  Downloading sniffio-1.2.0-py3-none-any.whl (10 kB)\n",
            "Collecting h2==3.*\n",
            "  Downloading h2-3.2.0-py2.py3-none-any.whl (65 kB)\n",
            "\u001b[K     |████████████████████████████████| 65 kB 4.6 MB/s \n",
            "\u001b[?25hCollecting h11<0.10,>=0.8\n",
            "  Downloading h11-0.9.0-py2.py3-none-any.whl (53 kB)\n",
            "\u001b[K     |████████████████████████████████| 53 kB 2.5 MB/s \n",
            "\u001b[?25hRequirement already satisfied: urllib3==1.* in /usr/local/lib/python3.7/dist-packages (from httpx<0.12.0,>=0.11.1->dataget) (1.24.3)\n",
            "Collecting rfc3986<2,>=1.3\n",
            "  Downloading rfc3986-1.5.0-py2.py3-none-any.whl (31 kB)\n",
            "Requirement already satisfied: chardet==3.* in /usr/local/lib/python3.7/dist-packages (from httpx<0.12.0,>=0.11.1->dataget) (3.0.4)\n",
            "Collecting hstspreload\n",
            "  Downloading hstspreload-2021.11.1-py3-none-any.whl (1.3 MB)\n",
            "\u001b[K     |████████████████████████████████| 1.3 MB 41.0 MB/s \n",
            "\u001b[?25hCollecting hpack<4,>=3.0\n",
            "  Downloading hpack-3.0.0-py2.py3-none-any.whl (38 kB)\n",
            "Collecting hyperframe<6,>=5.2.0\n",
            "  Downloading hyperframe-5.2.0-py2.py3-none-any.whl (12 kB)\n",
            "Requirement already satisfied: six in /usr/local/lib/python3.7/dist-packages (from idx2numpy<2.0.0,>=1.2.2->dataget) (1.15.0)\n",
            "Requirement already satisfied: python-slugify in /usr/local/lib/python3.7/dist-packages (from kaggle<2.0.0,>=1.5.6->dataget) (5.0.2)\n",
            "Requirement already satisfied: requests in /usr/local/lib/python3.7/dist-packages (from kaggle<2.0.0,>=1.5.6->dataget) (2.23.0)\n",
            "Requirement already satisfied: python-dateutil in /usr/local/lib/python3.7/dist-packages (from kaggle<2.0.0,>=1.5.6->dataget) (2.8.2)\n",
            "Requirement already satisfied: pytz>=2017.2 in /usr/local/lib/python3.7/dist-packages (from pandas<2.0.0,>=1.0.1->dataget) (2018.9)\n",
            "Requirement already satisfied: text-unidecode>=1.3 in /usr/local/lib/python3.7/dist-packages (from python-slugify->kaggle<2.0.0,>=1.5.6->dataget) (1.3)\n",
            "Building wheels for collected packages: idx2numpy\n",
            "  Building wheel for idx2numpy (setup.py) ... \u001b[?25l\u001b[?25hdone\n",
            "  Created wheel for idx2numpy: filename=idx2numpy-1.2.3-py3-none-any.whl size=7919 sha256=4e6c63073b44b8b76d2b3ef339f47bf41b95fcbcea8c82eab7fe1c9d2a0af661\n",
            "  Stored in directory: /root/.cache/pip/wheels/1a/ce/ad/d5e95a35cfe34149aade5e500f2edd535c0566d79e9a8e1d8a\n",
            "Successfully built idx2numpy\n",
            "Installing collected packages: hyperframe, hpack, sniffio, rfc3986, hstspreload, h2, h11, idx2numpy, httpx, aiofiles, dataget\n",
            "Successfully installed aiofiles-0.4.0 dataget-0.4.15 h11-0.9.0 h2-3.2.0 hpack-3.0.0 hstspreload-2021.11.1 httpx-0.11.1 hyperframe-5.2.0 idx2numpy-1.2.3 rfc3986-1.5.0 sniffio-1.2.0\n"
          ]
        }
      ]
    },
    {
      "cell_type": "code",
      "metadata": {
        "colab": {
          "base_uri": "https://localhost:8080/"
        },
        "id": "7Z-RULNoRntr",
        "outputId": "05c55cc2-9e2b-4675-a219-d887812696c6"
      },
      "source": [
        "import dataget \n",
        "\n",
        "f_mnist = dataget.image.fashion_mnist()"
      ],
      "id": "7Z-RULNoRntr",
      "execution_count": 27,
      "outputs": [
        {
          "output_type": "execute_result",
          "data": {
            "text/plain": [
              "<dataget.image.fashion_mnist.fashion_mnist at 0x7f9f5e0d4090>"
            ]
          },
          "metadata": {},
          "execution_count": 27
        }
      ]
    },
    {
      "cell_type": "code",
      "metadata": {
        "colab": {
          "base_uri": "https://localhost:8080/"
        },
        "id": "Uo9DUWe1rpKQ",
        "outputId": "c159ef19-af8f-4adf-e9cc-49d2c56084e1"
      },
      "source": [
        "import scipy.io\n",
        "\n",
        "mat = scipy.io.loadmat(\"/content/drive/MyDrive/COIL20.mat\")\n",
        "coil20 = mat['X']\n",
        "coil20.shape\n",
        "\n"
      ],
      "id": "Uo9DUWe1rpKQ",
      "execution_count": 8,
      "outputs": [
        {
          "output_type": "execute_result",
          "data": {
            "text/plain": [
              "(1440, 1024)"
            ]
          },
          "metadata": {},
          "execution_count": 8
        }
      ]
    },
    {
      "cell_type": "code",
      "metadata": {
        "colab": {
          "base_uri": "https://localhost:8080/"
        },
        "id": "OZT0avZauPuW",
        "outputId": "10dd1fb0-6ecf-4dad-8099-e6d2694173ce"
      },
      "source": [
        "import sys\n",
        "!{sys.executable} -m pip install cmake==3.17.0\n",
        "!{sys.executable} -m pip install MulticoreTSNE\n",
        "!{sys.executable} -m pip install umap-learn\n",
        "\n",
        "from MulticoreTSNE import MulticoreTSNE as TSNE\n",
        "from sklearn.manifold import SpectralEmbedding\n",
        "from sklearn.decomposition import PCA\n",
        "from umap import UMAP"
      ],
      "id": "OZT0avZauPuW",
      "execution_count": 15,
      "outputs": [
        {
          "output_type": "stream",
          "name": "stdout",
          "text": [
            "Requirement already satisfied: cmake==3.17.0 in /usr/local/lib/python3.7/dist-packages (3.17.0)\n",
            "Collecting MulticoreTSNE\n",
            "  Downloading MulticoreTSNE-0.1.tar.gz (20 kB)\n",
            "Requirement already satisfied: numpy in /usr/local/lib/python3.7/dist-packages (from MulticoreTSNE) (1.19.5)\n",
            "Requirement already satisfied: cffi in /usr/local/lib/python3.7/dist-packages (from MulticoreTSNE) (1.15.0)\n",
            "Requirement already satisfied: pycparser in /usr/local/lib/python3.7/dist-packages (from cffi->MulticoreTSNE) (2.21)\n",
            "Building wheels for collected packages: MulticoreTSNE\n",
            "  Building wheel for MulticoreTSNE (setup.py) ... \u001b[?25l\u001b[?25hdone\n",
            "  Created wheel for MulticoreTSNE: filename=MulticoreTSNE-0.1-cp37-cp37m-linux_x86_64.whl size=68518 sha256=cde3fbb0ca704ace96d28fe13c809b8563f302be00212ae7667c448d156cb5f9\n",
            "  Stored in directory: /root/.cache/pip/wheels/80/47/df/c0d66e9f775f33281c422a1964de86a59c47f93bb8c37643e3\n",
            "Successfully built MulticoreTSNE\n",
            "Installing collected packages: MulticoreTSNE\n",
            "Successfully installed MulticoreTSNE-0.1\n",
            "Requirement already satisfied: umap-learn in /usr/local/lib/python3.7/dist-packages (0.5.2)\n",
            "Requirement already satisfied: numpy>=1.17 in /usr/local/lib/python3.7/dist-packages (from umap-learn) (1.19.5)\n",
            "Requirement already satisfied: scipy>=1.0 in /usr/local/lib/python3.7/dist-packages (from umap-learn) (1.4.1)\n",
            "Requirement already satisfied: scikit-learn>=0.22 in /usr/local/lib/python3.7/dist-packages (from umap-learn) (1.0.1)\n",
            "Requirement already satisfied: tqdm in /usr/local/lib/python3.7/dist-packages (from umap-learn) (4.62.3)\n",
            "Requirement already satisfied: pynndescent>=0.5 in /usr/local/lib/python3.7/dist-packages (from umap-learn) (0.5.5)\n",
            "Requirement already satisfied: numba>=0.49 in /usr/local/lib/python3.7/dist-packages (from umap-learn) (0.51.2)\n",
            "Requirement already satisfied: setuptools in /usr/local/lib/python3.7/dist-packages (from numba>=0.49->umap-learn) (57.4.0)\n",
            "Requirement already satisfied: llvmlite<0.35,>=0.34.0.dev0 in /usr/local/lib/python3.7/dist-packages (from numba>=0.49->umap-learn) (0.34.0)\n",
            "Requirement already satisfied: joblib>=0.11 in /usr/local/lib/python3.7/dist-packages (from pynndescent>=0.5->umap-learn) (1.1.0)\n",
            "Requirement already satisfied: threadpoolctl>=2.0.0 in /usr/local/lib/python3.7/dist-packages (from scikit-learn>=0.22->umap-learn) (3.0.0)\n"
          ]
        }
      ]
    },
    {
      "cell_type": "code",
      "metadata": {
        "id": "wQi9vH0dPmJF"
      },
      "source": [
        ""
      ],
      "id": "wQi9vH0dPmJF",
      "execution_count": null,
      "outputs": []
    }
  ]
}